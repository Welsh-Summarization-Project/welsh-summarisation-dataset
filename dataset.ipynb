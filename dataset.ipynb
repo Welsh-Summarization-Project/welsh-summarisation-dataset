{
  "nbformat": 4,
  "nbformat_minor": 0,
  "metadata": {
    "colab": {
      "name": "dataset.ipynb",
      "provenance": [],
      "authorship_tag": "ABX9TyOQC48m/vEHWo0Ir27f3uE7",
      "include_colab_link": true
    },
    "kernelspec": {
      "name": "python3",
      "display_name": "Python 3"
    },
    "language_info": {
      "name": "python"
    }
  },
  "cells": [
    {
      "cell_type": "markdown",
      "metadata": {
        "id": "view-in-github",
        "colab_type": "text"
      },
      "source": [
        "<a href=\"https://colab.research.google.com/github/UCREL/welsh-summarisation-dataset/blob/main/dataset.ipynb\" target=\"_parent\"><img src=\"https://colab.research.google.com/assets/colab-badge.svg\" alt=\"Open In Colab\"/></a>"
      ]
    },
    {
      "cell_type": "code",
      "execution_count": 2,
      "metadata": {
        "colab": {
          "base_uri": "https://localhost:8080/"
        },
        "id": "eoVpoaeMGjrJ",
        "outputId": "c29b572c-4211-430c-fe0c-7acd3fa7fb21"
      },
      "outputs": [
        {
          "output_type": "stream",
          "name": "stdout",
          "text": [
            "Cloning into 'welsh-summarisation-dataset'...\n",
            "remote: Enumerating objects: 88, done.\u001b[K\n",
            "remote: Counting objects: 100% (88/88), done.\u001b[K\n",
            "remote: Compressing objects: 100% (50/50), done.\u001b[K\n",
            "remote: Total 88 (delta 40), reused 78 (delta 34), pack-reused 0\u001b[K\n",
            "Unpacking objects: 100% (88/88), done.\n"
          ]
        }
      ],
      "source": [
        "!git clone https://github.com/UCREL/welsh-summarisation-dataset.git"
      ]
    },
    {
      "cell_type": "code",
      "source": [
        "import os\n",
        "import pickle as pkl\n",
        "os.chdir('/content/welsh-summarisation-dataset')"
      ],
      "metadata": {
        "id": "iTi-PjdIH0y2"
      },
      "execution_count": 13,
      "outputs": []
    },
    {
      "cell_type": "code",
      "source": [
        "with open('./data/dataset.pkl', \"rb\") as dataset_file:\n",
        "  dataset = pkl.load(dataset_file)"
      ],
      "metadata": {
        "id": "1zhLL7LEIs4s"
      },
      "execution_count": 17,
      "outputs": []
    },
    {
      "cell_type": "code",
      "source": [
        "dataset.head()"
      ],
      "metadata": {
        "colab": {
          "base_uri": "https://localhost:8080/",
          "height": 206
        },
        "id": "b44gJE3UKn-N",
        "outputId": "84355d8c-0c99-43c1-f6e3-a4dc9fac6829"
      },
      "execution_count": 18,
      "outputs": [
        {
          "output_type": "execute_result",
          "data": {
            "text/html": [
              "\n",
              "  <div id=\"df-c007e9bd-45fb-4051-8713-0a8cd586d526\">\n",
              "    <div class=\"colab-df-container\">\n",
              "      <div>\n",
              "<style scoped>\n",
              "    .dataframe tbody tr th:only-of-type {\n",
              "        vertical-align: middle;\n",
              "    }\n",
              "\n",
              "    .dataframe tbody tr th {\n",
              "        vertical-align: top;\n",
              "    }\n",
              "\n",
              "    .dataframe thead th {\n",
              "        text-align: right;\n",
              "    }\n",
              "</style>\n",
              "<table border=\"1\" class=\"dataframe\">\n",
              "  <thead>\n",
              "    <tr style=\"text-align: right;\">\n",
              "      <th></th>\n",
              "      <th>fileId</th>\n",
              "      <th>title</th>\n",
              "      <th>article</th>\n",
              "      <th>wiki_summary</th>\n",
              "      <th>summarisedby</th>\n",
              "      <th>human_summary</th>\n",
              "      <th>readability</th>\n",
              "      <th>evaluation</th>\n",
              "    </tr>\n",
              "  </thead>\n",
              "  <tbody>\n",
              "    <tr>\n",
              "      <th>000</th>\n",
              "      <td>411</td>\n",
              "      <td>Andy_Warhol</td>\n",
              "      <td>Roedd Andy Warhol (6 Awst 1928 – 22 Chwefror 1...</td>\n",
              "      <td>Roedd Andy Warhol (6 Awst 1928 – 22 Chwefror 1...</td>\n",
              "      <td>CR08</td>\n",
              "      <td>Roedd Andy Warhol (6 Awst 1928  22 Chwefror 1...</td>\n",
              "      <td>4</td>\n",
              "      <td>5</td>\n",
              "    </tr>\n",
              "    <tr>\n",
              "      <th>001</th>\n",
              "      <td>001</td>\n",
              "      <td>Dulyn</td>\n",
              "      <td>Prifddinas Gweriniaeth Iwerddon a'i dinas fwya...</td>\n",
              "      <td>Prifddinas Gweriniaeth Iwerddon a'i dinas fwya...</td>\n",
              "      <td>CR04</td>\n",
              "      <td>Prifddinas a dinas fwyaf Gweriniaeth Iwerddon ...</td>\n",
              "      <td>5</td>\n",
              "      <td>5</td>\n",
              "    </tr>\n",
              "    <tr>\n",
              "      <th>002</th>\n",
              "      <td>001</td>\n",
              "      <td>Dulyn</td>\n",
              "      <td>Prifddinas Gweriniaeth Iwerddon a'i dinas fwya...</td>\n",
              "      <td>Prifddinas Gweriniaeth Iwerddon a'i dinas fwya...</td>\n",
              "      <td>CR05</td>\n",
              "      <td>Dulyn, yn dod or Wyddeleg dubh linn (pwll ...</td>\n",
              "      <td>4</td>\n",
              "      <td>3</td>\n",
              "    </tr>\n",
              "    <tr>\n",
              "      <th>003</th>\n",
              "      <td>001</td>\n",
              "      <td>Dulyn</td>\n",
              "      <td>Prifddinas Gweriniaeth Iwerddon a'i dinas fwya...</td>\n",
              "      <td>Prifddinas Gweriniaeth Iwerddon a'i dinas fwya...</td>\n",
              "      <td>CR06</td>\n",
              "      <td>Dulyn\\nSefydlwyd Dylun gan y Llychlynwyr yn 98...</td>\n",
              "      <td>3</td>\n",
              "      <td>1</td>\n",
              "    </tr>\n",
              "    <tr>\n",
              "      <th>004</th>\n",
              "      <td>010</td>\n",
              "      <td>Hanes Iwerddon</td>\n",
              "      <td>Mae Hanes Iwerddon yn dechrau gyda dyfodiad po...</td>\n",
              "      <td>Mae Hanes Iwerddon yn dechrau gyda dyfodiad po...</td>\n",
              "      <td>CR10</td>\n",
              "      <td>Yn ystod dechrau'r 5ed ganrif, fe wnaeth y cen...</td>\n",
              "      <td>4</td>\n",
              "      <td>4</td>\n",
              "    </tr>\n",
              "  </tbody>\n",
              "</table>\n",
              "</div>\n",
              "      <button class=\"colab-df-convert\" onclick=\"convertToInteractive('df-c007e9bd-45fb-4051-8713-0a8cd586d526')\"\n",
              "              title=\"Convert this dataframe to an interactive table.\"\n",
              "              style=\"display:none;\">\n",
              "        \n",
              "  <svg xmlns=\"http://www.w3.org/2000/svg\" height=\"24px\"viewBox=\"0 0 24 24\"\n",
              "       width=\"24px\">\n",
              "    <path d=\"M0 0h24v24H0V0z\" fill=\"none\"/>\n",
              "    <path d=\"M18.56 5.44l.94 2.06.94-2.06 2.06-.94-2.06-.94-.94-2.06-.94 2.06-2.06.94zm-11 1L8.5 8.5l.94-2.06 2.06-.94-2.06-.94L8.5 2.5l-.94 2.06-2.06.94zm10 10l.94 2.06.94-2.06 2.06-.94-2.06-.94-.94-2.06-.94 2.06-2.06.94z\"/><path d=\"M17.41 7.96l-1.37-1.37c-.4-.4-.92-.59-1.43-.59-.52 0-1.04.2-1.43.59L10.3 9.45l-7.72 7.72c-.78.78-.78 2.05 0 2.83L4 21.41c.39.39.9.59 1.41.59.51 0 1.02-.2 1.41-.59l7.78-7.78 2.81-2.81c.8-.78.8-2.07 0-2.86zM5.41 20L4 18.59l7.72-7.72 1.47 1.35L5.41 20z\"/>\n",
              "  </svg>\n",
              "      </button>\n",
              "      \n",
              "  <style>\n",
              "    .colab-df-container {\n",
              "      display:flex;\n",
              "      flex-wrap:wrap;\n",
              "      gap: 12px;\n",
              "    }\n",
              "\n",
              "    .colab-df-convert {\n",
              "      background-color: #E8F0FE;\n",
              "      border: none;\n",
              "      border-radius: 50%;\n",
              "      cursor: pointer;\n",
              "      display: none;\n",
              "      fill: #1967D2;\n",
              "      height: 32px;\n",
              "      padding: 0 0 0 0;\n",
              "      width: 32px;\n",
              "    }\n",
              "\n",
              "    .colab-df-convert:hover {\n",
              "      background-color: #E2EBFA;\n",
              "      box-shadow: 0px 1px 2px rgba(60, 64, 67, 0.3), 0px 1px 3px 1px rgba(60, 64, 67, 0.15);\n",
              "      fill: #174EA6;\n",
              "    }\n",
              "\n",
              "    [theme=dark] .colab-df-convert {\n",
              "      background-color: #3B4455;\n",
              "      fill: #D2E3FC;\n",
              "    }\n",
              "\n",
              "    [theme=dark] .colab-df-convert:hover {\n",
              "      background-color: #434B5C;\n",
              "      box-shadow: 0px 1px 3px 1px rgba(0, 0, 0, 0.15);\n",
              "      filter: drop-shadow(0px 1px 2px rgba(0, 0, 0, 0.3));\n",
              "      fill: #FFFFFF;\n",
              "    }\n",
              "  </style>\n",
              "\n",
              "      <script>\n",
              "        const buttonEl =\n",
              "          document.querySelector('#df-c007e9bd-45fb-4051-8713-0a8cd586d526 button.colab-df-convert');\n",
              "        buttonEl.style.display =\n",
              "          google.colab.kernel.accessAllowed ? 'block' : 'none';\n",
              "\n",
              "        async function convertToInteractive(key) {\n",
              "          const element = document.querySelector('#df-c007e9bd-45fb-4051-8713-0a8cd586d526');\n",
              "          const dataTable =\n",
              "            await google.colab.kernel.invokeFunction('convertToInteractive',\n",
              "                                                     [key], {});\n",
              "          if (!dataTable) return;\n",
              "\n",
              "          const docLinkHtml = 'Like what you see? Visit the ' +\n",
              "            '<a target=\"_blank\" href=https://colab.research.google.com/notebooks/data_table.ipynb>data table notebook</a>'\n",
              "            + ' to learn more about interactive tables.';\n",
              "          element.innerHTML = '';\n",
              "          dataTable['output_type'] = 'display_data';\n",
              "          await google.colab.output.renderOutput(dataTable, element);\n",
              "          const docLink = document.createElement('div');\n",
              "          docLink.innerHTML = docLinkHtml;\n",
              "          element.appendChild(docLink);\n",
              "        }\n",
              "      </script>\n",
              "    </div>\n",
              "  </div>\n",
              "  "
            ],
            "text/plain": [
              "    fileId           title  ... readability evaluation\n",
              "000    411     Andy_Warhol  ...           4          5\n",
              "001    001           Dulyn  ...           5          5\n",
              "002    001           Dulyn  ...           4          3\n",
              "003    001           Dulyn  ...           3          1\n",
              "004    010  Hanes Iwerddon  ...           4          4\n",
              "\n",
              "[5 rows x 8 columns]"
            ]
          },
          "metadata": {},
          "execution_count": 18
        }
      ]
    }
  ]
}